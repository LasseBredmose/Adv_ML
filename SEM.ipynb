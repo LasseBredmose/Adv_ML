{
 "cells": [
  {
   "cell_type": "code",
   "execution_count": 1,
   "id": "e1dca011",
   "metadata": {},
   "outputs": [],
   "source": [
    "import numpy as np"
   ]
  },
  {
   "cell_type": "markdown",
   "id": "f78178d7",
   "metadata": {},
   "source": [
    "Accuracy for CNN"
   ]
  },
  {
   "cell_type": "code",
   "execution_count": 2,
   "id": "d5984bf3",
   "metadata": {},
   "outputs": [],
   "source": [
    "acc = [88.55, 84.27, 93.24, 92.74, 93.06, 92.15, 81.76, 92.21, 93.06, 91.93]\n",
    "ece = [2.10, 3.25, 1.20, 0.88, 1.57, 0.97, 2.73, 0.82, 0.95, 1.63]"
   ]
  },
  {
   "cell_type": "code",
   "execution_count": 3,
   "id": "01c6aa99",
   "metadata": {},
   "outputs": [
    {
     "data": {
      "text/plain": [
       "90.297"
      ]
     },
     "execution_count": 3,
     "metadata": {},
     "output_type": "execute_result"
    }
   ],
   "source": [
    "np.mean(acc)"
   ]
  },
  {
   "cell_type": "code",
   "execution_count": 4,
   "id": "1bc6981c",
   "metadata": {},
   "outputs": [
    {
     "data": {
      "text/plain": [
       "1.2325372611000445"
      ]
     },
     "execution_count": 4,
     "metadata": {},
     "output_type": "execute_result"
    }
   ],
   "source": [
    "np.std(acc)/np.sqrt(len(acc))"
   ]
  },
  {
   "cell_type": "code",
   "execution_count": 5,
   "id": "d44bca83",
   "metadata": {},
   "outputs": [
    {
     "data": {
      "text/plain": [
       "1.6099999999999999"
      ]
     },
     "execution_count": 5,
     "metadata": {},
     "output_type": "execute_result"
    }
   ],
   "source": [
    "np.mean(ece)"
   ]
  },
  {
   "cell_type": "code",
   "execution_count": 6,
   "id": "2f599bee",
   "metadata": {},
   "outputs": [
    {
     "data": {
      "text/plain": [
       "0.25211901951261034"
      ]
     },
     "execution_count": 6,
     "metadata": {},
     "output_type": "execute_result"
    }
   ],
   "source": [
    "np.std(ece)/np.sqrt(len(ece))"
   ]
  },
  {
   "cell_type": "markdown",
   "id": "594f3535",
   "metadata": {},
   "source": [
    "Accuracy for Laplace\n"
   ]
  },
  {
   "cell_type": "code",
   "execution_count": 2,
   "id": "0656ef46",
   "metadata": {},
   "outputs": [
    {
     "name": "stdout",
     "output_type": "stream",
     "text": [
      "This is the mean of acc: 90.19000000000001\n",
      "This is the stm of acc: 1.25658823804777\n",
      "This is the mean of ece: 1.902\n",
      "This is the stm of ece: 0.12436880637844844\n"
     ]
    }
   ],
   "source": [
    "# Diag\n",
    "acc_diag = [88.27, 84.20, 93.12, 92.74, 93.09, 92.02, 81.42, 92.21, 92.96, 91.87  ]\n",
    "ece_diag = [2.10, 2.63, 1.62, 1.28, 2.05, 1.81, 2.48, 1.73, 1.66, 1.66 ]\n",
    "print(f\"This is the mean of acc: {np.mean(acc_diag)}\")\n",
    "print(f\"This is the stm of acc: {np.std(acc_diag)/np.sqrt(len(acc_diag))}\")\n",
    "print(f\"This is the mean of ece: {np.mean(ece_diag)}\")\n",
    "print(f\"This is the stm of ece: {np.std(ece_diag)/np.sqrt(len(ece_diag))}\")"
   ]
  },
  {
   "cell_type": "code",
   "execution_count": 3,
   "id": "24a349c5",
   "metadata": {},
   "outputs": [
    {
     "name": "stdout",
     "output_type": "stream",
     "text": [
      "This is the mean of acc: 90.244\n",
      "This is the stm of acc: 1.2394879587958894\n",
      "This is the mean of ece: 1.9160000000000004\n",
      "This is the stm of ece: 0.05907960731081411\n"
     ]
    }
   ],
   "source": [
    "# Kron\n",
    "acc_kron = [88.49, 84.24, 93.15, 92.71, 93.02, 92.06, 81.61, 92.24, 93.02, 91.90  ]\n",
    "ece_kron = [2.0, 2.15, 1.84, 1.53, 2.24, 1.86, 1.98, 1.79, 1.92, 1.85 ]\n",
    "print(f\"This is the mean of acc: {np.mean(acc_kron)}\")\n",
    "print(f\"This is the stm of acc: {np.std(acc_kron)/np.sqrt(len(acc_kron))}\")\n",
    "print(f\"This is the mean of ece: {np.mean(ece_kron)}\")\n",
    "print(f\"This is the stm of ece: {np.std(ece_kron)/np.sqrt(len(ece_kron))}\")"
   ]
  },
  {
   "cell_type": "code",
   "execution_count": 4,
   "id": "3bf4bd2d",
   "metadata": {},
   "outputs": [
    {
     "name": "stdout",
     "output_type": "stream",
     "text": [
      "This is the mean of acc: 90.285\n",
      "This is the stm of acc: 1.2362833413097503\n",
      "This is the mean of ece: 1.9120000000000001\n",
      "This is the stm of ece: 0.06292535260131643\n"
     ]
    }
   ],
   "source": [
    "# Full\n",
    "acc_full = [88.52, 84.24, 93.18, 92.74, 93.09, 92.12, 81.73, 92.21, 93.12, 91.90]\n",
    "ece_full = [2.0, 2.15, 1.84, 1.57, 2.24, 2.09, 1.81, 1.81, 1.92, 1.69]\n",
    "print(f\"This is the mean of acc: {np.mean(acc_full)}\")\n",
    "print(f\"This is the stm of acc: {np.std(acc_full)/np.sqrt(len(acc_full))}\")\n",
    "print(f\"This is the mean of ece: {np.mean(ece_full)}\")\n",
    "print(f\"This is the stm of ece: {np.std(ece_full)/np.sqrt(len(ece_full))}\")"
   ]
  }
 ],
 "metadata": {
  "kernelspec": {
   "display_name": "Python 3 (ipykernel)",
   "language": "python",
   "name": "python3"
  },
  "language_info": {
   "codemirror_mode": {
    "name": "ipython",
    "version": 3
   },
   "file_extension": ".py",
   "mimetype": "text/x-python",
   "name": "python",
   "nbconvert_exporter": "python",
   "pygments_lexer": "ipython3",
   "version": "3.9.10"
  },
  "toc": {
   "base_numbering": 1,
   "nav_menu": {},
   "number_sections": false,
   "sideBar": true,
   "skip_h1_title": true,
   "title_cell": "Table of Contents",
   "title_sidebar": "Contents",
   "toc_cell": false,
   "toc_position": {},
   "toc_section_display": true,
   "toc_window_display": false
  }
 },
 "nbformat": 4,
 "nbformat_minor": 5
}
