{
 "cells": [
  {
   "cell_type": "code",
   "execution_count": 1,
   "id": "e1dca011",
   "metadata": {},
   "outputs": [],
   "source": [
    "import numpy as np"
   ]
  },
  {
   "cell_type": "markdown",
   "id": "f78178d7",
   "metadata": {},
   "source": [
    "Accuracy for CNN"
   ]
  },
  {
   "cell_type": "code",
   "execution_count": 2,
   "id": "d5984bf3",
   "metadata": {},
   "outputs": [],
   "source": [
    "acc = [88.55, 84.27, 93.24, 92.74, 93.06, 92.15, 81.76, 92.21, 93.06, 91.93]\n",
    "ece = [2.10, 3.25, 1.20, 0.88, 1.57, 0.97, 2.73, 0.82, 0.95, 1.63]"
   ]
  },
  {
   "cell_type": "code",
   "execution_count": 3,
   "id": "01c6aa99",
   "metadata": {},
   "outputs": [
    {
     "data": {
      "text/plain": [
       "90.297"
      ]
     },
     "execution_count": 3,
     "metadata": {},
     "output_type": "execute_result"
    }
   ],
   "source": [
    "np.mean(acc)"
   ]
  },
  {
   "cell_type": "code",
   "execution_count": 4,
   "id": "1bc6981c",
   "metadata": {},
   "outputs": [
    {
     "data": {
      "text/plain": [
       "1.2325372611000445"
      ]
     },
     "execution_count": 4,
     "metadata": {},
     "output_type": "execute_result"
    }
   ],
   "source": [
    "np.std(acc)/np.sqrt(len(acc))"
   ]
  },
  {
   "cell_type": "code",
   "execution_count": 5,
   "id": "d44bca83",
   "metadata": {},
   "outputs": [
    {
     "data": {
      "text/plain": [
       "1.6099999999999999"
      ]
     },
     "execution_count": 5,
     "metadata": {},
     "output_type": "execute_result"
    }
   ],
   "source": [
    "np.mean(ece)"
   ]
  },
  {
   "cell_type": "code",
   "execution_count": 6,
   "id": "2f599bee",
   "metadata": {},
   "outputs": [
    {
     "data": {
      "text/plain": [
       "0.25211901951261034"
      ]
     },
     "execution_count": 6,
     "metadata": {},
     "output_type": "execute_result"
    }
   ],
   "source": [
    "np.std(ece)/np.sqrt(len(ece))"
   ]
  },
  {
   "cell_type": "markdown",
   "id": "594f3535",
   "metadata": {},
   "source": [
    "Accuracy for Laplace"
   ]
  },
  {
   "cell_type": "code",
   "execution_count": null,
   "id": "0656ef46",
   "metadata": {},
   "outputs": [],
   "source": []
  }
 ],
 "metadata": {
  "kernelspec": {
   "display_name": "Python 3 (ipykernel)",
   "language": "python",
   "name": "python3"
  },
  "language_info": {
   "codemirror_mode": {
    "name": "ipython",
    "version": 3
   },
   "file_extension": ".py",
   "mimetype": "text/x-python",
   "name": "python",
   "nbconvert_exporter": "python",
   "pygments_lexer": "ipython3",
   "version": "3.9.7"
  },
  "toc": {
   "base_numbering": 1,
   "nav_menu": {},
   "number_sections": false,
   "sideBar": true,
   "skip_h1_title": true,
   "title_cell": "Table of Contents",
   "title_sidebar": "Contents",
   "toc_cell": false,
   "toc_position": {},
   "toc_section_display": true,
   "toc_window_display": false
  }
 },
 "nbformat": 4,
 "nbformat_minor": 5
}
