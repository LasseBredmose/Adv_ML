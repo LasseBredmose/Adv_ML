{
 "cells": [
  {
   "cell_type": "code",
   "execution_count": 49,
   "id": "matched-title",
   "metadata": {},
   "outputs": [],
   "source": [
    "import pandas as pd"
   ]
  },
  {
   "cell_type": "code",
   "execution_count": 50,
   "id": "instant-scratch",
   "metadata": {},
   "outputs": [],
   "source": [
    "data_dir = \"data\"\n",
    "annotation_file = \"MURA-v1.1/train_labeled_studies.csv\"\n",
    "paths_file = \"MURA-v1.1/train_image_paths.csv\""
   ]
  },
  {
   "cell_type": "code",
   "execution_count": 51,
   "id": "dried-tuner",
   "metadata": {},
   "outputs": [],
   "source": [
    "anno_df = pd.read_csv(f\"{data_dir}/{annotation_file}\", names=[\"file\", \"label\"])"
   ]
  },
  {
   "cell_type": "code",
   "execution_count": 52,
   "id": "protective-county",
   "metadata": {},
   "outputs": [],
   "source": [
    "anno_df['label'] = anno_df.file.str.split('/').str[2].str[3:]"
   ]
  },
  {
   "cell_type": "code",
   "execution_count": 53,
   "id": "sustained-stupid",
   "metadata": {},
   "outputs": [],
   "source": [
    "files_df = pd.read_csv(f\"{data_dir}/{paths_file}\", names=[\"img_file\"])\n",
    "files_df[\"file\"] = files_df[\"img_file\"].str.split(\"image\").str[0]"
   ]
  },
  {
   "cell_type": "code",
   "execution_count": 54,
   "id": "suitable-chassis",
   "metadata": {},
   "outputs": [
    {
     "data": {
      "text/html": [
       "<div>\n",
       "<style scoped>\n",
       "    .dataframe tbody tr th:only-of-type {\n",
       "        vertical-align: middle;\n",
       "    }\n",
       "\n",
       "    .dataframe tbody tr th {\n",
       "        vertical-align: top;\n",
       "    }\n",
       "\n",
       "    .dataframe thead th {\n",
       "        text-align: right;\n",
       "    }\n",
       "</style>\n",
       "<table border=\"1\" class=\"dataframe\">\n",
       "  <thead>\n",
       "    <tr style=\"text-align: right;\">\n",
       "      <th></th>\n",
       "      <th>file</th>\n",
       "      <th>label</th>\n",
       "    </tr>\n",
       "  </thead>\n",
       "  <tbody>\n",
       "    <tr>\n",
       "      <th>2</th>\n",
       "      <td>MURA-v1.1/train/XR_SHOULDER/patient00003/study...</td>\n",
       "      <td>SHOULDER</td>\n",
       "    </tr>\n",
       "    <tr>\n",
       "      <th>3</th>\n",
       "      <td>MURA-v1.1/train/XR_SHOULDER/patient00004/study...</td>\n",
       "      <td>SHOULDER</td>\n",
       "    </tr>\n",
       "    <tr>\n",
       "      <th>4</th>\n",
       "      <td>MURA-v1.1/train/XR_SHOULDER/patient00005/study...</td>\n",
       "      <td>SHOULDER</td>\n",
       "    </tr>\n",
       "    <tr>\n",
       "      <th>5</th>\n",
       "      <td>MURA-v1.1/train/XR_SHOULDER/patient00006/study...</td>\n",
       "      <td>SHOULDER</td>\n",
       "    </tr>\n",
       "    <tr>\n",
       "      <th>6</th>\n",
       "      <td>MURA-v1.1/train/XR_SHOULDER/patient00007/study...</td>\n",
       "      <td>SHOULDER</td>\n",
       "    </tr>\n",
       "    <tr>\n",
       "      <th>...</th>\n",
       "      <td>...</td>\n",
       "      <td>...</td>\n",
       "    </tr>\n",
       "    <tr>\n",
       "      <th>13452</th>\n",
       "      <td>MURA-v1.1/train/XR_HAND/patient11180/study1_ne...</td>\n",
       "      <td>HAND</td>\n",
       "    </tr>\n",
       "    <tr>\n",
       "      <th>13453</th>\n",
       "      <td>MURA-v1.1/train/XR_HAND/patient11181/study1_ne...</td>\n",
       "      <td>HAND</td>\n",
       "    </tr>\n",
       "    <tr>\n",
       "      <th>13454</th>\n",
       "      <td>MURA-v1.1/train/XR_HAND/patient11182/study1_ne...</td>\n",
       "      <td>HAND</td>\n",
       "    </tr>\n",
       "    <tr>\n",
       "      <th>13455</th>\n",
       "      <td>MURA-v1.1/train/XR_HAND/patient11183/study1_ne...</td>\n",
       "      <td>HAND</td>\n",
       "    </tr>\n",
       "    <tr>\n",
       "      <th>13456</th>\n",
       "      <td>MURA-v1.1/train/XR_HAND/patient11184/study1_ne...</td>\n",
       "      <td>HAND</td>\n",
       "    </tr>\n",
       "  </tbody>\n",
       "</table>\n",
       "<p>13455 rows × 2 columns</p>\n",
       "</div>"
      ],
      "text/plain": [
       "                                                    file     label\n",
       "2      MURA-v1.1/train/XR_SHOULDER/patient00003/study...  SHOULDER\n",
       "3      MURA-v1.1/train/XR_SHOULDER/patient00004/study...  SHOULDER\n",
       "4      MURA-v1.1/train/XR_SHOULDER/patient00005/study...  SHOULDER\n",
       "5      MURA-v1.1/train/XR_SHOULDER/patient00006/study...  SHOULDER\n",
       "6      MURA-v1.1/train/XR_SHOULDER/patient00007/study...  SHOULDER\n",
       "...                                                  ...       ...\n",
       "13452  MURA-v1.1/train/XR_HAND/patient11180/study1_ne...      HAND\n",
       "13453  MURA-v1.1/train/XR_HAND/patient11181/study1_ne...      HAND\n",
       "13454  MURA-v1.1/train/XR_HAND/patient11182/study1_ne...      HAND\n",
       "13455  MURA-v1.1/train/XR_HAND/patient11183/study1_ne...      HAND\n",
       "13456  MURA-v1.1/train/XR_HAND/patient11184/study1_ne...      HAND\n",
       "\n",
       "[13455 rows x 2 columns]"
      ]
     },
     "execution_count": 54,
     "metadata": {},
     "output_type": "execute_result"
    }
   ],
   "source": [
    "anno_df[2:]"
   ]
  },
  {
   "cell_type": "code",
   "execution_count": null,
   "id": "social-violation",
   "metadata": {},
   "outputs": [],
   "source": []
  }
 ],
 "metadata": {
  "kernelspec": {
   "display_name": "Python 3",
   "language": "python",
   "name": "python3"
  },
  "language_info": {
   "codemirror_mode": {
    "name": "ipython",
    "version": 3
   },
   "file_extension": ".py",
   "mimetype": "text/x-python",
   "name": "python",
   "nbconvert_exporter": "python",
   "pygments_lexer": "ipython3",
   "version": "3.9.0"
  }
 },
 "nbformat": 4,
 "nbformat_minor": 5
}
